{
 "cells": [
  {
   "cell_type": "code",
   "execution_count": 123,
   "metadata": {},
   "outputs": [],
   "source": [
    "import numpy as np\n",
    "import pandas as pd"
   ]
  },
  {
   "cell_type": "code",
   "execution_count": 124,
   "metadata": {},
   "outputs": [],
   "source": [
    "origin_file = 'Lake Pyhajarvi Finland Original 10Y.txt'"
   ]
  },
  {
   "cell_type": "code",
   "execution_count": 125,
   "metadata": {},
   "outputs": [],
   "source": [
    "variables_file = 'variables_20.xlsx'"
   ]
  },
  {
   "cell_type": "code",
   "execution_count": 126,
   "metadata": {},
   "outputs": [],
   "source": [
    "variables_table = pd.read_excel(variables_file)"
   ]
  },
  {
   "cell_type": "code",
   "execution_count": 127,
   "metadata": {},
   "outputs": [],
   "source": [
    "variables_selected = variables_table.loc[variables_table['Tune'] == 'yes']"
   ]
  },
  {
   "cell_type": "code",
   "execution_count": 128,
   "metadata": {},
   "outputs": [
    {
     "name": "stdout",
     "output_type": "stream",
     "text": [
      "               Name                   Inner Name  \\\n",
      "0       Cryptomonad     OtherAlg2: [Cryptomonad]   \n",
      "1       Cryptomonad     OtherAlg2: [Cryptomonad]   \n",
      "2       Cryptomonad     OtherAlg2: [Cryptomonad]   \n",
      "3       Cryptomonad     OtherAlg2: [Cryptomonad]   \n",
      "4       Cryptomonad     OtherAlg2: [Cryptomonad]   \n",
      "5       Cryptomonad     OtherAlg2: [Cryptomonad]   \n",
      "6       Cryptomonad     OtherAlg2: [Cryptomonad]   \n",
      "7       Cryptomonad     OtherAlg2: [Cryptomonad]   \n",
      "8       Cryptomonad     OtherAlg2: [Cryptomonad]   \n",
      "9       Cryptomonad     OtherAlg2: [Cryptomonad]   \n",
      "10      Cryptomonad     OtherAlg2: [Cryptomonad]   \n",
      "11      Cryptomonad     OtherAlg2: [Cryptomonad]   \n",
      "12      Cryptomonad     OtherAlg2: [Cryptomonad]   \n",
      "13  Cyclotella Nana  Diatoms1: [Cyclotella nana]   \n",
      "14  Cyclotella Nana  Diatoms1: [Cyclotella nana]   \n",
      "15  Cyclotella Nana  Diatoms1: [Cyclotella nana]   \n",
      "16  Cyclotella Nana  Diatoms1: [Cyclotella nana]   \n",
      "17  Cyclotella Nana  Diatoms1: [Cyclotella nana]   \n",
      "18  Cyclotella Nana  Diatoms1: [Cyclotella nana]   \n",
      "19  Cyclotella Nana  Diatoms1: [Cyclotella nana]   \n",
      "\n",
      "                                        Variable Name Inner Variable Name  \\\n",
      "0                         Maximum photosynthetic rate              \"PMax\"   \n",
      "1   Concentration of P in water needed for 50 % of...             \"EMort\"   \n",
      "2        Exponential factor for suboptimal conditions              \"KPO4\"   \n",
      "3                            Minimum light saturation               \"Q10\"   \n",
      "4   Slope or rate of change per 10°C temperature c...              \"TOpt\"   \n",
      "5                                                 NaN            \"Resp20\"   \n",
      "6                                                 NaN              \"TMax\"   \n",
      "7                                                 NaN             \"P2Org\"   \n",
      "8                                                 NaN              \"KSed\"   \n",
      "9                                                 NaN       \"MinLightSat\"   \n",
      "10                                                NaN              \"ESed\"   \n",
      "11                                                NaN       \"ECoeffPhyto\"   \n",
      "12                                                NaN             \"KResp\"   \n",
      "13                                                NaN              \"PMax\"   \n",
      "14                                                NaN              \"KPO4\"   \n",
      "15                                                NaN               \"Q10\"   \n",
      "16                                                NaN              \"TOpt\"   \n",
      "17                                                NaN            \"Resp20\"   \n",
      "18                                                NaN             \"P2Org\"   \n",
      "19                                                NaN       \"MinLightSat\"   \n",
      "\n",
      "   Tune  Initial Value  Estimated sensetivity  Hard Min  Soft Min  Soft Max  \\\n",
      "0   yes          3.900                    NaN       0.0     0.200      8.00   \n",
      "1   yes          0.090                    NaN       0.0     0.040      0.10   \n",
      "2   yes          0.070                    NaN       0.0     0.001      1.52   \n",
      "3   yes          2.000                    NaN       0.0     1.000      3.00   \n",
      "4   yes          8.000                    NaN       NaN     8.000     24.00   \n",
      "5   yes          0.050                    NaN       0.0       NaN       NaN   \n",
      "6   yes         30.000                    NaN       NaN    15.000     42.00   \n",
      "7   yes          0.018                    NaN       0.0     0.005      0.01   \n",
      "8   yes          0.031                    NaN       NaN     0.070      0.32   \n",
      "9   yes         11.000                    NaN       0.0    11.000     80.00   \n",
      "10  yes          0.693                    NaN       0.0     0.050      0.20   \n",
      "11  yes          0.144                    NaN       0.0       NaN       NaN   \n",
      "12  yes          0.026                    NaN       0.0       NaN       NaN   \n",
      "13  yes          3.400                    NaN       0.0     0.340      3.40   \n",
      "14  yes          0.017                    NaN       0.0     0.001      1.55   \n",
      "15  yes          1.800                    NaN       0.0     1.000      3.00   \n",
      "16  yes         20.000                    NaN       NaN    10.000     40.00   \n",
      "17  yes          0.080                    NaN       0.0       NaN       NaN   \n",
      "18  yes          0.018                    NaN       0.0       NaN       NaN   \n",
      "19  yes         22.500                    NaN       0.0       NaN       NaN   \n",
      "\n",
      "    Hard Max  \n",
      "0        NaN  \n",
      "1        NaN  \n",
      "2        NaN  \n",
      "3        NaN  \n",
      "4        NaN  \n",
      "5        NaN  \n",
      "6        NaN  \n",
      "7        NaN  \n",
      "8        NaN  \n",
      "9        NaN  \n",
      "10       NaN  \n",
      "11       NaN  \n",
      "12       NaN  \n",
      "13       NaN  \n",
      "14       NaN  \n",
      "15       NaN  \n",
      "16       NaN  \n",
      "17       NaN  \n",
      "18       NaN  \n",
      "19       NaN  \n"
     ]
    }
   ],
   "source": [
    "print(variables_selected)"
   ]
  },
  {
   "cell_type": "code",
   "execution_count": 129,
   "metadata": {},
   "outputs": [
    {
     "name": "stdout",
     "output_type": "stream",
     "text": [
      "Number of parameters: 20\n"
     ]
    }
   ],
   "source": [
    "number_of_parameters = variables_selected.shape[0]\n",
    "\n",
    "print('Number of parameters: ' + str(number_of_parameters))"
   ]
  },
  {
   "cell_type": "code",
   "execution_count": 130,
   "metadata": {},
   "outputs": [
    {
     "name": "stdout",
     "output_type": "stream",
     "text": [
      "Unique plant names:\n",
      "['OtherAlg2: [Cryptomonad]' 'Diatoms1: [Cyclotella nana]']\n",
      "Plant - variable\n",
      "{'OtherAlg2: [Cryptomonad]': ['\"PMax\"', '\"EMort\"', '\"KPO4\"', '\"Q10\"', '\"TOpt\"', '\"Resp20\"', '\"TMax\"', '\"P2Org\"', '\"KSed\"', '\"MinLightSat\"', '\"ESed\"', '\"ECoeffPhyto\"', '\"KResp\"'], 'Diatoms1: [Cyclotella nana]': ['\"PMax\"', '\"KPO4\"', '\"Q10\"', '\"TOpt\"', '\"Resp20\"', '\"P2Org\"', '\"MinLightSat\"']}\n"
     ]
    }
   ],
   "source": [
    "plant_names = variables_selected['Inner Name'].unique()\n",
    "\n",
    "print('Unique plant names:')\n",
    "print(plant_names)\n",
    "\n",
    "plant_variable_dict = dict()\n",
    "\n",
    "for plant_name in plant_names:\n",
    "    variables_for_plant = variables_selected.loc[variables_selected['Inner Name'] == plant_name]['Inner Variable Name'].tolist()\n",
    "    plant_variable_dict[plant_name] = variables_for_plant\n",
    "    \n",
    "print('Plant - variable')\n",
    "print(plant_variable_dict)\n",
    "\n",
    "plant_variable_dict_copy = dict(plant_variable_dict)"
   ]
  },
  {
   "cell_type": "code",
   "execution_count": 131,
   "metadata": {},
   "outputs": [
    {
     "name": "stdout",
     "output_type": "stream",
     "text": [
      "Parameter names:\n",
      " \n",
      "['_param1_', '_param2_', '_param3_', '_param4_', '_param5_', '_param6_', '_param7_', '_param8_', '_param9_', '_param10_', '_param11_', '_param12_', '_param13_', '_param14_', '_param15_', '_param16_', '_param17_', '_param18_', '_param19_', '_param20_']\n"
     ]
    }
   ],
   "source": [
    "generated_params_names = ['_param' + str(i + 1) + '_' for i in range(number_of_parameters)]\n",
    "\n",
    "print('Parameter names:\\n ')\n",
    "print(generated_params_names)\n",
    "\n",
    "params_names_copy = list(generated_params_names)"
   ]
  },
  {
   "cell_type": "code",
   "execution_count": 132,
   "metadata": {},
   "outputs": [],
   "source": [
    "lines = open(origin_file).readlines()"
   ]
  },
  {
   "cell_type": "code",
   "execution_count": 133,
   "metadata": {},
   "outputs": [
    {
     "data": {
      "text/plain": [
       "{'OtherAlg2: [Cryptomonad]': ['\"PMax\"',\n",
       "  '\"EMort\"',\n",
       "  '\"KPO4\"',\n",
       "  '\"Q10\"',\n",
       "  '\"TOpt\"',\n",
       "  '\"Resp20\"',\n",
       "  '\"TMax\"',\n",
       "  '\"P2Org\"',\n",
       "  '\"KSed\"',\n",
       "  '\"MinLightSat\"',\n",
       "  '\"ESed\"',\n",
       "  '\"ECoeffPhyto\"',\n",
       "  '\"KResp\"'],\n",
       " 'Diatoms1: [Cyclotella nana]': ['\"PMax\"',\n",
       "  '\"KPO4\"',\n",
       "  '\"Q10\"',\n",
       "  '\"TOpt\"',\n",
       "  '\"Resp20\"',\n",
       "  '\"P2Org\"',\n",
       "  '\"MinLightSat\"']}"
      ]
     },
     "execution_count": 133,
     "metadata": {},
     "output_type": "execute_result"
    }
   ],
   "source": [
    "plant_variable_dict"
   ]
  },
  {
   "cell_type": "code",
   "execution_count": 134,
   "metadata": {},
   "outputs": [
    {
     "name": "stdout",
     "output_type": "stream",
     "text": [
      "['\"PMax\"', '\"EMort\"', '\"KPO4\"', '\"Q10\"', '\"TOpt\"', '\"Resp20\"', '\"TMax\"', '\"P2Org\"', '\"KSed\"', '\"MinLightSat\"', '\"ESed\"', '\"ECoeffPhyto\"', '\"KResp\"']\n",
      "     \"PMax\":  _param1_\n",
      "\n",
      "     \"EMort\":  _param2_\n",
      "\n",
      "     \"KPO4\":  _param3_\n",
      "\n",
      "     \"Q10\":  _param4_\n",
      "\n",
      "     \"TOpt\":  _param5_\n",
      "\n",
      "     \"Resp20\":  _param6_\n",
      "\n",
      "     \"TMax\":  _param7_\n",
      "\n",
      "     \"P2Org\":  _param8_\n",
      "\n",
      "     \"KSed\":  _param9_\n",
      "\n",
      "     \"MinLightSat\":  _param10_\n",
      "\n",
      "     \"ESed\":  _param11_\n",
      "\n",
      "     \"ECoeffPhyto\":  _param12_\n",
      "\n",
      "     \"KResp\":  _param13_\n",
      "\n",
      "['\"PMax\"', '\"KPO4\"', '\"Q10\"', '\"TOpt\"', '\"Resp20\"', '\"P2Org\"', '\"MinLightSat\"']\n",
      "     \"PMax\":  _param14_\n",
      "\n",
      "     \"KPO4\":  _param15_\n",
      "\n",
      "     \"Q10\":  _param16_\n",
      "\n",
      "     \"TOpt\":  _param17_\n",
      "\n",
      "     \"Resp20\":  _param18_\n",
      "\n",
      "     \"P2Org\":  _param19_\n",
      "\n",
      "     \"MinLightSat\":  _param20_\n",
      "\n"
     ]
    }
   ],
   "source": [
    "mapping = dict()\n",
    "\n",
    "# Find plant index in the input aquatox file\n",
    "for plant in plant_variable_dict.keys():\n",
    "    for line_index in range(len(lines)):\n",
    "        if (plant in lines[line_index]):\n",
    "            plant_index = line_index\n",
    "            break\n",
    "    \n",
    "    print(plant_variable_dict[plant])\n",
    "    \n",
    "    # Rewrite its parameters with substituted names\n",
    "    for variable in plant_variable_dict[plant]:\n",
    "        for line_index in range(plant_index, len(lines)):\n",
    "            if (variable in lines[line_index] and len(params_names_copy) > 0):\n",
    "                splitted_line = lines[line_index].split(':')\n",
    "                new_line = splitted_line[0] + ':  ' + params_names_copy[0] + '\\n'\n",
    "                mapping[str(plant) + str(variable)] = params_names_copy[0]\n",
    "                del params_names_copy[0]\n",
    "                lines[line_index] = new_line\n",
    "                print(new_line)\n",
    "                break"
   ]
  },
  {
   "cell_type": "code",
   "execution_count": 135,
   "metadata": {},
   "outputs": [
    {
     "data": {
      "text/plain": [
       "{'OtherAlg2: [Cryptomonad]\"PMax\"': '_param1_',\n",
       " 'OtherAlg2: [Cryptomonad]\"EMort\"': '_param2_',\n",
       " 'OtherAlg2: [Cryptomonad]\"KPO4\"': '_param3_',\n",
       " 'OtherAlg2: [Cryptomonad]\"Q10\"': '_param4_',\n",
       " 'OtherAlg2: [Cryptomonad]\"TOpt\"': '_param5_',\n",
       " 'OtherAlg2: [Cryptomonad]\"Resp20\"': '_param6_',\n",
       " 'OtherAlg2: [Cryptomonad]\"TMax\"': '_param7_',\n",
       " 'OtherAlg2: [Cryptomonad]\"P2Org\"': '_param8_',\n",
       " 'OtherAlg2: [Cryptomonad]\"KSed\"': '_param9_',\n",
       " 'OtherAlg2: [Cryptomonad]\"MinLightSat\"': '_param10_',\n",
       " 'OtherAlg2: [Cryptomonad]\"ESed\"': '_param11_',\n",
       " 'OtherAlg2: [Cryptomonad]\"ECoeffPhyto\"': '_param12_',\n",
       " 'OtherAlg2: [Cryptomonad]\"KResp\"': '_param13_',\n",
       " 'Diatoms1: [Cyclotella nana]\"PMax\"': '_param14_',\n",
       " 'Diatoms1: [Cyclotella nana]\"KPO4\"': '_param15_',\n",
       " 'Diatoms1: [Cyclotella nana]\"Q10\"': '_param16_',\n",
       " 'Diatoms1: [Cyclotella nana]\"TOpt\"': '_param17_',\n",
       " 'Diatoms1: [Cyclotella nana]\"Resp20\"': '_param18_',\n",
       " 'Diatoms1: [Cyclotella nana]\"P2Org\"': '_param19_',\n",
       " 'Diatoms1: [Cyclotella nana]\"MinLightSat\"': '_param20_'}"
      ]
     },
     "execution_count": 135,
     "metadata": {},
     "output_type": "execute_result"
    }
   ],
   "source": [
    "mapping"
   ]
  },
  {
   "cell_type": "code",
   "execution_count": 136,
   "metadata": {},
   "outputs": [],
   "source": [
    "file_to_write = open('Lake Pyhajarvi Finland.txt', 'w')"
   ]
  },
  {
   "cell_type": "code",
   "execution_count": 137,
   "metadata": {},
   "outputs": [],
   "source": [
    "file_to_write.writelines(lines)\n",
    "file_to_write.close()"
   ]
  },
  {
   "cell_type": "code",
   "execution_count": null,
   "metadata": {},
   "outputs": [],
   "source": []
  },
  {
   "cell_type": "code",
   "execution_count": null,
   "metadata": {},
   "outputs": [],
   "source": []
  }
 ],
 "metadata": {
  "kernelspec": {
   "display_name": "Python 3",
   "language": "python",
   "name": "python3"
  },
  "language_info": {
   "codemirror_mode": {
    "name": "ipython",
    "version": 3
   },
   "file_extension": ".py",
   "mimetype": "text/x-python",
   "name": "python",
   "nbconvert_exporter": "python",
   "pygments_lexer": "ipython3",
   "version": "3.6.5"
  }
 },
 "nbformat": 4,
 "nbformat_minor": 2
}
