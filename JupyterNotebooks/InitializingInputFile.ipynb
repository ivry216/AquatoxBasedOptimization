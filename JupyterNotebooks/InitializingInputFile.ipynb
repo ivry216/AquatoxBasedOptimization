{
 "cells": [
  {
   "cell_type": "code",
   "execution_count": 1,
   "metadata": {},
   "outputs": [],
   "source": [
    "import numpy as np\n",
    "import pandas as pd"
   ]
  },
  {
   "cell_type": "code",
   "execution_count": 2,
   "metadata": {},
   "outputs": [],
   "source": [
    "origin_file = 'Lake Pyhajarvi Finland Original.txt'"
   ]
  },
  {
   "cell_type": "code",
   "execution_count": 3,
   "metadata": {},
   "outputs": [],
   "source": [
    "variables_file = 'variables.xlsx'"
   ]
  },
  {
   "cell_type": "code",
   "execution_count": 4,
   "metadata": {},
   "outputs": [],
   "source": [
    "variables_table = pd.read_excel(variables_file)"
   ]
  },
  {
   "cell_type": "code",
   "execution_count": 5,
   "metadata": {},
   "outputs": [],
   "source": [
    "variables_selected = variables_table.loc[variables_table['Tune'] == 'yes']"
   ]
  },
  {
   "cell_type": "code",
   "execution_count": 6,
   "metadata": {},
   "outputs": [
    {
     "name": "stdout",
     "output_type": "stream",
     "text": [
      "          Name                Inner Name  \\\n",
      "0  Cryptomonad  OtherAlg2: [Cryptomonad]   \n",
      "1  Cryptomonad  OtherAlg2: [Cryptomonad]   \n",
      "2  Cryptomonad  OtherAlg2: [Cryptomonad]   \n",
      "3  Cryptomonad  OtherAlg2: [Cryptomonad]   \n",
      "4  Cryptomonad  OtherAlg2: [Cryptomonad]   \n",
      "\n",
      "                                       Variable Name Inner Variable Name Tune  \\\n",
      "0                        Maximum photosynthetic rate              \"PMax\"  yes   \n",
      "1  Concentration of P in water needed for 50 % of...              \"KPO4\"  yes   \n",
      "2       Exponential factor for suboptimal conditions             \"EMort\"  yes   \n",
      "3                           Minimum light saturation       \"MinLightSat\"  yes   \n",
      "4  Slope or rate of change per 10°C temperature c...               \"Q10\"  yes   \n",
      "\n",
      "   Initial Value  Estimated sensetivity  Hard Min  Soft Min  Soft Max  \\\n",
      "0           3.90                    NaN         0     0.200      8.00   \n",
      "1           0.07                    NaN         0     0.001      1.52   \n",
      "2           0.09                    NaN         0     0.040      0.10   \n",
      "3          11.00                    NaN         0    11.000     80.00   \n",
      "4           2.00                    NaN         0     1.000      3.00   \n",
      "\n",
      "   Hard Max  \n",
      "0       NaN  \n",
      "1       NaN  \n",
      "2       NaN  \n",
      "3       NaN  \n",
      "4       NaN  \n"
     ]
    }
   ],
   "source": [
    "print(variables_selected)"
   ]
  },
  {
   "cell_type": "code",
   "execution_count": 7,
   "metadata": {},
   "outputs": [
    {
     "name": "stdout",
     "output_type": "stream",
     "text": [
      "Number of parameters: 5\n"
     ]
    }
   ],
   "source": [
    "number_of_parameters = variables_selected.shape[0]\n",
    "\n",
    "print('Number of parameters: ' + str(number_of_parameters))"
   ]
  },
  {
   "cell_type": "code",
   "execution_count": 8,
   "metadata": {},
   "outputs": [
    {
     "name": "stdout",
     "output_type": "stream",
     "text": [
      "Unique plant names:\n",
      "['OtherAlg2: [Cryptomonad]']\n",
      "Plant - variable\n",
      "{'OtherAlg2: [Cryptomonad]': ['\"PMax\"', '\"KPO4\"', '\"EMort\"', '\"MinLightSat\"', '\"Q10\"']}\n"
     ]
    }
   ],
   "source": [
    "plant_names = variables_selected['Inner Name'].unique()\n",
    "\n",
    "print('Unique plant names:')\n",
    "print(plant_names)\n",
    "\n",
    "plant_variable_dict = dict()\n",
    "\n",
    "for plant_name in plant_names:\n",
    "    variables_for_plant = variables_selected.loc[variables_selected['Inner Name'] == plant_name]['Inner Variable Name'].tolist()\n",
    "    plant_variable_dict[plant_name] = variables_for_plant\n",
    "    \n",
    "print('Plant - variable')\n",
    "print(plant_variable_dict)\n",
    "\n",
    "plant_variable_dict_copy = dict(plant_variable_dict)"
   ]
  },
  {
   "cell_type": "code",
   "execution_count": 22,
   "metadata": {},
   "outputs": [
    {
     "name": "stdout",
     "output_type": "stream",
     "text": [
      "Parameter names:\n",
      " \n",
      "['_param1_', '_param2_', '_param3_', '_param4_', '_param5_']\n"
     ]
    }
   ],
   "source": [
    "generated_params_names = ['_param' + str(i + 1) + '_' for i in range(number_of_parameters)]\n",
    "\n",
    "print('Parameter names:\\n ')\n",
    "print(generated_params_names)\n",
    "\n",
    "params_names_copy = list(generated_params_names)"
   ]
  },
  {
   "cell_type": "code",
   "execution_count": 23,
   "metadata": {},
   "outputs": [],
   "source": [
    "lines = open(origin_file).readlines()"
   ]
  },
  {
   "cell_type": "code",
   "execution_count": 24,
   "metadata": {},
   "outputs": [
    {
     "data": {
      "text/plain": [
       "['\"PMax\"', '\"KPO4\"', '\"EMort\"', '\"MinLightSat\"', '\"Q10\"']"
      ]
     },
     "execution_count": 24,
     "metadata": {},
     "output_type": "execute_result"
    }
   ],
   "source": [
    "plant_variable_dict[plant]"
   ]
  },
  {
   "cell_type": "code",
   "execution_count": 25,
   "metadata": {},
   "outputs": [
    {
     "name": "stdout",
     "output_type": "stream",
     "text": [
      "     \"PMax\":  _param1_\n",
      "\n",
      "     \"KPO4\":  _param2_\n",
      "\n",
      "     \"EMort\":  _param3_\n",
      "\n",
      "     \"MinLightSat\":  _param4_\n",
      "\n",
      "     \"Q10\":  _param5_\n",
      "\n"
     ]
    }
   ],
   "source": [
    "mapping = dict()\n",
    "\n",
    "# Find plant index in the input aquatox file\n",
    "for plant in plant_variable_dict.keys():\n",
    "    for line_index in range(len(lines)):\n",
    "        if (plant in lines[line_index]):\n",
    "            plant_index = line_index\n",
    "            break\n",
    "    \n",
    "    # Rewrite its parameters with substituted names\n",
    "    for variable in plant_variable_dict[plant]:\n",
    "        for line_index in range(plant_index, len(lines)):\n",
    "            if (variable in lines[line_index] and len(params_names_copy) > 0):\n",
    "                splitted_line = lines[line_index].split(':')\n",
    "                new_line = splitted_line[0] + ':  ' + params_names_copy[0] + '\\n'\n",
    "                mapping[str(plant) + str(variable)] = params_names_copy[0]\n",
    "                del params_names_copy[0]\n",
    "                lines[line_index] = new_line\n",
    "                print(new_line)"
   ]
  },
  {
   "cell_type": "code",
   "execution_count": 26,
   "metadata": {},
   "outputs": [
    {
     "data": {
      "text/plain": [
       "{'OtherAlg2: [Cryptomonad]\"PMax\"': '_param1_',\n",
       " 'OtherAlg2: [Cryptomonad]\"KPO4\"': '_param2_',\n",
       " 'OtherAlg2: [Cryptomonad]\"EMort\"': '_param3_',\n",
       " 'OtherAlg2: [Cryptomonad]\"MinLightSat\"': '_param4_',\n",
       " 'OtherAlg2: [Cryptomonad]\"Q10\"': '_param5_'}"
      ]
     },
     "execution_count": 26,
     "metadata": {},
     "output_type": "execute_result"
    }
   ],
   "source": [
    "mapping"
   ]
  },
  {
   "cell_type": "code",
   "execution_count": 27,
   "metadata": {},
   "outputs": [],
   "source": [
    "file_to_write = open('Lake Pyhajarvi Finland.txt', 'w')"
   ]
  },
  {
   "cell_type": "code",
   "execution_count": 28,
   "metadata": {},
   "outputs": [],
   "source": [
    "file_to_write.writelines(lines)\n",
    "file_to_write.close()"
   ]
  }
 ],
 "metadata": {
  "kernelspec": {
   "display_name": "Python 3",
   "language": "python",
   "name": "python3"
  },
  "language_info": {
   "codemirror_mode": {
    "name": "ipython",
    "version": 3
   },
   "file_extension": ".py",
   "mimetype": "text/x-python",
   "name": "python",
   "nbconvert_exporter": "python",
   "pygments_lexer": "ipython3",
   "version": "3.7.1"
  }
 },
 "nbformat": 4,
 "nbformat_minor": 2
}
